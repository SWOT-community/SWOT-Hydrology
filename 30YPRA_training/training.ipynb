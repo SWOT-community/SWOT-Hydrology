{
 "cells": [
  {
   "cell_type": "markdown",
   "id": "898b8032-09aa-49ee-a1c6-3d3c79769df0",
   "metadata": {},
   "source": [
    "# SWOT Hydro training\n",
    "\n",
    "These following training material is dedicated to SWOT HR products discovery.\n",
    "It will allow users to become familiar with the SWOT products and its usage and limitations.\n",
    "Finally, the notebooks shows concrete examples to learn how to read, and visualize SWOT observations.\n",
    "\n",
    "## Requirements\n",
    "The reader should be familiar with the basic concepts of Python, notebooks and netCDF format"
   ]
  },
  {
   "cell_type": "markdown",
   "id": "041c2d04-7ab7-451f-9e5e-dbc435fb51ab",
   "metadata": {},
   "source": [
    "## Prepare\n",
    "\n",
    "To run the different notebooks presented below, you must activate the \n",
    "`swot-training` conda environment containing all the python libraries required to execute\n",
    "them.  To do so, execute the following steps:"
   ]
  },
  {
   "cell_type": "markdown",
   "id": "b563d7df-a95f-4a42-8c07-d46d1b862711",
   "metadata": {},
   "source": [
    "* If you are already in a Conda environment you must deactivate it before\n",
    "  following the procedure.\n",
    "\n",
    "```bash\n",
    "    conda deactivate\n",
    "```\n",
    "\n",
    "* Create the conda environment\n",
    "\n",
    "```bash\n",
    "conda env create -f env_swot-training.yml\n",
    "```\n",
    "\n",
    "* Install the IPython kernel\n",
    "\n",
    "    ```bash\n",
    "    \n",
    "    path/to/env/swot-training/bin/python -m ipykernel install \\\n",
    "    --user \\\n",
    "    --name \"swot-training\" \\\n",
    "    --display-name \"swot-training\" \n",
    " \n",
    "    ```\n",
    "<div class=\"alert alert-info\">\n",
    "     <b>Tip:</b> the path/to/env/swot-training can be found using the command 'conda env list'\n",
    "</div>"
   ]
  },
  {
   "cell_type": "markdown",
   "id": "0300a63a-82ea-4691-88dd-44fef817bc7c",
   "metadata": {},
   "source": [
    " \n",
    "After executing these commands, you can use this environment in JupyterLab.\n",
    "   An icon should appear after a few seconds in Launcher tab.\n",
    "   \n",
    "<div class=\"alert alert-info\">\n",
    "     If you have any issues regarding theses steps, feel free to ask helps at  <a href=mailto:swot_ce@cnes.fr>swot_ce@cnes.fr</a>)\n",
    "</div>"
   ]
  },
  {
   "cell_type": "markdown",
   "id": "a548bee4-b37f-4405-9b02-f1ded88a729a",
   "metadata": {},
   "source": [
    "## Training content\n",
    "\n",
    "### Setup\n",
    "0. [&rarr; Configure Hydroweb Next access](0_hydrowebnext_setup.ipynb) \n",
    "1. [&rarr; Search and download SWOT data](1_get_SWOT_products.ipynb)\n",
    " \n",
    "\n",
    "### SWOT products training\n",
    "\n",
    "2. [&rarr; SWOT SLC product](2_SLC_applications.ipynb)\n",
    "3. [&rarr; SWOT PIXC product](3_pixc_product.ipynb) \n",
    "4. [&rarr; SWOT river product](4_lake_product.ipynb) \n",
    "5. [&rarr; SWOT lake product](5_river_product.ipynb)"
   ]
  }
 ],
 "metadata": {
  "kernelspec": {
   "display_name": "Python 3 (ipykernel)",
   "language": "python",
   "name": "python3"
  },
  "language_info": {
   "codemirror_mode": {
    "name": "ipython",
    "version": 3
   },
   "file_extension": ".py",
   "mimetype": "text/x-python",
   "name": "python",
   "nbconvert_exporter": "python",
   "pygments_lexer": "ipython3",
   "version": "3.10.12"
  }
 },
 "nbformat": 4,
 "nbformat_minor": 5
}
