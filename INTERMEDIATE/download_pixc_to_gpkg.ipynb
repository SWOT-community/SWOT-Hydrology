{
 "cells": [
  {
   "cell_type": "markdown",
   "metadata": {},
   "source": [
    "# Download and convert to Geopackage\n",
    "\n",
    "This downloads SWOT Pixel Cloud products from hydroweb.next (API-Key necessary) based on a region and a period of interest.\n",
    "Then is extracts information contained in the area of interest for your study, stores everything in a Geopackage Database for future use.\n",
    "Geopackage is a convenient data storage format, based on SQL, and is compatible with QGIS.\n"
   ]
  },
  {
   "cell_type": "markdown",
   "metadata": {},
   "source": [
    "## Setting the region and period of interest\n",
    "Using a geopackage layer, preliminary created with, e.g. QGIS, to limit data download and database"
   ]
  },
  {
   "cell_type": "code",
   "execution_count": 2,
   "metadata": {},
   "outputs": [
    {
     "name": "stderr",
     "output_type": "stream",
     "text": [
      "/home/hysope2/SRC/preprocess_swot_pixc/pixcdust/.venv/lib/python3.10/site-packages/tqdm/auto.py:21: TqdmWarning: IProgress not found. Please update jupyter and ipywidgets. See https://ipywidgets.readthedocs.io/en/stable/user_install.html\n",
      "  from .autonotebook import tqdm as notebook_tqdm\n"
     ]
    }
   ],
   "source": [
    "from pixcdust.downloaders.hydroweb_next import PixCDownloader\n",
    "import geopandas as gpd\n",
    "from datetime import datetime"
   ]
  },
  {
   "cell_type": "code",
   "execution_count": 12,
   "metadata": {},
   "outputs": [],
   "source": [
    "# reading the area of interest polygon (could have been set)\n",
    "gdf_geom = gpd.read_file('/home/hysope2/STUDIES/SWOT_Panama/DATA/aoi.gpkg')\n",
    "\n",
    "# Limiting time period\n",
    "dates = (\n",
    "    datetime(2023,4,6),\n",
    "    datetime(2023,4,15),\n",
    ")\n"
   ]
  },
  {
   "cell_type": "markdown",
   "metadata": {},
   "source": [
    "## Download\n",
    "This will unfortunately lead to downloading many big files (that will be removed later). This is the only way right now, but the hydroweb.next team is working on improving that."
   ]
  },
  {
   "cell_type": "code",
   "execution_count": 13,
   "metadata": {},
   "outputs": [],
   "source": [
    "pixcdownloader = PixCDownloader(\n",
    "    gdf_geom,\n",
    "    dates,\n",
    "    verbose=0,\n",
    "    path_download='/tmp/pixc',\n",
    "    )\n",
    "pixcdownloader.search_download()"
   ]
  },
  {
   "cell_type": "markdown",
   "metadata": {},
   "source": [
    "## Extraction\n",
    "Now we have all necessary files, let us extract key variables within area of interest in a geopackage database.\n",
    "This geopackage format is quite efficient (though not the most efficient), and may easily be visualized in, e.g., QGIS\n",
    "We are using the same geodataframe to limit the data to the area of interest"
   ]
  },
  {
   "cell_type": "code",
   "execution_count": 14,
   "metadata": {},
   "outputs": [],
   "source": [
    "from pixcdust.converters.gpkg import PixCNc2GpkgConverter\n",
    "from glob import glob"
   ]
  },
  {
   "cell_type": "code",
   "execution_count": 15,
   "metadata": {},
   "outputs": [
    {
     "name": "stderr",
     "output_type": "stream",
     "text": [
      " 12%|█▏        | 2/17 [00:19<02:08,  8.56s/it]"
     ]
    },
    {
     "name": "stdout",
     "output_type": "stream",
     "text": [
      "--File /tmp/pixc/URN_FEATURE_DATA_swot_087c8ba8-8f8b-374e-8c6d-380199f82771_V1-URN_FEATURE_DATA_swot_087c8ba8-8f8b-374e-8c6d-380199f82771_V1/SWOT_L2_HR_PIXC_486_009_171L_20230410T032638_20230410T032647_PGC0_01.nc combined with area of interest                        returned empty. Skipping it\n"
     ]
    },
    {
     "name": "stderr",
     "output_type": "stream",
     "text": [
      " 18%|█▊        | 3/17 [00:22<01:23,  5.98s/it]"
     ]
    },
    {
     "name": "stdout",
     "output_type": "stream",
     "text": [
      "--File /tmp/pixc/URN_FEATURE_DATA_swot_0f71e233-c0f2-3b60-a8e7-b79fd62bddee_V1-URN_FEATURE_DATA_swot_0f71e233-c0f2-3b60-a8e7-b79fd62bddee_V1/SWOT_L2_HR_PIXC_485_009_171L_20230409T033600_20230409T033609_PGC0_01.nc combined with area of interest                        returned empty. Skipping it\n"
     ]
    },
    {
     "name": "stderr",
     "output_type": "stream",
     "text": [
      " 24%|██▎       | 4/17 [00:25<01:01,  4.74s/it]"
     ]
    },
    {
     "name": "stdout",
     "output_type": "stream",
     "text": [
      "--File /tmp/pixc/URN_FEATURE_DATA_swot_2f4a4153-ed7b-3bb3-ad4d-0976b643125d_V2-URN_FEATURE_DATA_swot_2f4a4153-ed7b-3bb3-ad4d-0976b643125d_V2/SWOT_L2_HR_PIXC_484_009_171L_20230408T034522_20230408T034531_PGC0_01.nc combined with area of interest                        returned empty. Skipping it\n"
     ]
    },
    {
     "name": "stderr",
     "output_type": "stream",
     "text": [
      " 41%|████      | 7/17 [01:00<01:25,  8.54s/it]"
     ]
    },
    {
     "name": "stdout",
     "output_type": "stream",
     "text": [
      "--File /tmp/pixc/URN_FEATURE_DATA_swot_4f1cbd93-176a-364a-924b-d0e035996e63_V1-URN_FEATURE_DATA_swot_4f1cbd93-176a-364a-924b-d0e035996e63_V1/SWOT_L2_HR_PIXC_483_009_171L_20230407T035443_20230407T035453_PGC0_01.nc combined with area of interest                        returned empty. Skipping it\n"
     ]
    },
    {
     "name": "stderr",
     "output_type": "stream",
     "text": [
      " 53%|█████▎    | 9/17 [01:19<01:07,  8.46s/it]"
     ]
    },
    {
     "name": "stdout",
     "output_type": "stream",
     "text": [
      "--File /tmp/pixc/URN_FEATURE_DATA_swot_624906c9-414e-3e3a-92f4-153de04c9d00_V1-URN_FEATURE_DATA_swot_624906c9-414e-3e3a-92f4-153de04c9d00_V1/SWOT_L2_HR_PIXC_490_009_171L_20230414T024910_20230414T024920_PGC0_01.nc combined with area of interest                        returned empty. Skipping it\n"
     ]
    },
    {
     "name": "stderr",
     "output_type": "stream",
     "text": [
      " 59%|█████▉    | 10/17 [01:22<00:46,  6.69s/it]"
     ]
    },
    {
     "name": "stdout",
     "output_type": "stream",
     "text": [
      "--File /tmp/pixc/URN_FEATURE_DATA_swot_701bcc33-4432-3ff3-9908-7489aeceff0b_V1-URN_FEATURE_DATA_swot_701bcc33-4432-3ff3-9908-7489aeceff0b_V1/SWOT_L2_HR_PIXC_489_009_171L_20230413T025832_20230413T025842_PGC0_01.nc combined with area of interest                        returned empty. Skipping it\n"
     ]
    },
    {
     "name": "stderr",
     "output_type": "stream",
     "text": [
      " 65%|██████▍   | 11/17 [01:24<00:32,  5.49s/it]"
     ]
    },
    {
     "name": "stdout",
     "output_type": "stream",
     "text": [
      "--File /tmp/pixc/URN_FEATURE_DATA_swot_7d92152a-1890-3555-9308-2a9e2bcfbb00_V1-URN_FEATURE_DATA_swot_7d92152a-1890-3555-9308-2a9e2bcfbb00_V1/SWOT_L2_HR_PIXC_488_009_171L_20230412T030754_20230412T030804_PGC0_01.nc combined with area of interest                        returned empty. Skipping it\n"
     ]
    },
    {
     "name": "stderr",
     "output_type": "stream",
     "text": [
      " 82%|████████▏ | 14/17 [01:59<00:25,  8.46s/it]"
     ]
    },
    {
     "name": "stdout",
     "output_type": "stream",
     "text": [
      "--File /tmp/pixc/URN_FEATURE_DATA_swot_c614f219-595c-3afe-97d4-ed276a73489e_V1-URN_FEATURE_DATA_swot_c614f219-595c-3afe-97d4-ed276a73489e_V1/SWOT_L2_HR_PIXC_487_009_171L_20230411T031716_20230411T031725_PGC0_01.nc combined with area of interest                        returned empty. Skipping it\n"
     ]
    },
    {
     "name": "stderr",
     "output_type": "stream",
     "text": [
      "100%|██████████| 17/17 [02:47<00:00,  9.88s/it]\n"
     ]
    }
   ],
   "source": [
    "pixc = PixCNc2GpkgConverter(\n",
    "            glob(pixcdownloader.path_download+'/*/*nc'),\n",
    "            \"/tmp/my_awesome_pixc_gpkg.gpkg\",\n",
    "            variables=['height', 'sig0', 'classification'],\n",
    "            area_of_interest=gdf_geom,\n",
    "            mode='o',\n",
    "        )\n",
    "pixc.database_from_nc()"
   ]
  },
  {
   "cell_type": "markdown",
   "metadata": {},
   "source": [
    "database has been succesfully created, we can remove the raw files"
   ]
  },
  {
   "cell_type": "code",
   "execution_count": 16,
   "metadata": {},
   "outputs": [],
   "source": [
    "# import shutil\n",
    "# shutil.rmtree('/tmp/pixc')"
   ]
  },
  {
   "cell_type": "markdown",
   "metadata": {},
   "source": [
    "# Read the database\n",
    "previous steps are not necessary\n",
    "\n",
    "Now we can open this database in a GeoDataFrame, load it in, e.g., QGIS, etc."
   ]
  },
  {
   "cell_type": "code",
   "execution_count": 17,
   "metadata": {},
   "outputs": [
    {
     "name": "stderr",
     "output_type": "stream",
     "text": [
      "  0%|          | 0/9 [00:00<?, ?it/s]"
     ]
    },
    {
     "name": "stderr",
     "output_type": "stream",
     "text": [
      "100%|██████████| 9/9 [00:02<00:00,  4.25it/s]\n"
     ]
    },
    {
     "data": {
      "text/html": [
       "<div>\n",
       "<style scoped>\n",
       "    .dataframe tbody tr th:only-of-type {\n",
       "        vertical-align: middle;\n",
       "    }\n",
       "\n",
       "    .dataframe tbody tr th {\n",
       "        vertical-align: top;\n",
       "    }\n",
       "\n",
       "    .dataframe thead th {\n",
       "        text-align: right;\n",
       "    }\n",
       "</style>\n",
       "<table border=\"1\" class=\"dataframe\">\n",
       "  <thead>\n",
       "    <tr style=\"text-align: right;\">\n",
       "      <th></th>\n",
       "      <th>height</th>\n",
       "      <th>sig0</th>\n",
       "      <th>classification</th>\n",
       "      <th>geoid</th>\n",
       "      <th>latitude</th>\n",
       "      <th>longitude</th>\n",
       "      <th>wse</th>\n",
       "      <th>geometry</th>\n",
       "    </tr>\n",
       "  </thead>\n",
       "  <tbody>\n",
       "    <tr>\n",
       "      <th>0</th>\n",
       "      <td>12.554601</td>\n",
       "      <td>40.937172</td>\n",
       "      <td>4.0</td>\n",
       "      <td>12.927674</td>\n",
       "      <td>8.901639</td>\n",
       "      <td>-79.547015</td>\n",
       "      <td>-0.373074</td>\n",
       "      <td>POINT (-79.54701 8.90164)</td>\n",
       "    </tr>\n",
       "    <tr>\n",
       "      <th>1</th>\n",
       "      <td>12.654260</td>\n",
       "      <td>31.059845</td>\n",
       "      <td>4.0</td>\n",
       "      <td>12.927361</td>\n",
       "      <td>8.901656</td>\n",
       "      <td>-79.547131</td>\n",
       "      <td>-0.273101</td>\n",
       "      <td>POINT (-79.54713 8.90166)</td>\n",
       "    </tr>\n",
       "    <tr>\n",
       "      <th>2</th>\n",
       "      <td>12.695892</td>\n",
       "      <td>16.790562</td>\n",
       "      <td>4.0</td>\n",
       "      <td>12.927069</td>\n",
       "      <td>8.901672</td>\n",
       "      <td>-79.547239</td>\n",
       "      <td>-0.231176</td>\n",
       "      <td>POINT (-79.54724 8.90167)</td>\n",
       "    </tr>\n",
       "    <tr>\n",
       "      <th>3</th>\n",
       "      <td>12.558355</td>\n",
       "      <td>13.450170</td>\n",
       "      <td>4.0</td>\n",
       "      <td>12.927868</td>\n",
       "      <td>8.901819</td>\n",
       "      <td>-79.546884</td>\n",
       "      <td>-0.369513</td>\n",
       "      <td>POINT (-79.54688 8.90182)</td>\n",
       "    </tr>\n",
       "    <tr>\n",
       "      <th>4</th>\n",
       "      <td>12.593613</td>\n",
       "      <td>36.509998</td>\n",
       "      <td>4.0</td>\n",
       "      <td>12.927578</td>\n",
       "      <td>8.901835</td>\n",
       "      <td>-79.546991</td>\n",
       "      <td>-0.333965</td>\n",
       "      <td>POINT (-79.54699 8.90184)</td>\n",
       "    </tr>\n",
       "    <tr>\n",
       "      <th>...</th>\n",
       "      <td>...</td>\n",
       "      <td>...</td>\n",
       "      <td>...</td>\n",
       "      <td>...</td>\n",
       "      <td>...</td>\n",
       "      <td>...</td>\n",
       "      <td>...</td>\n",
       "      <td>...</td>\n",
       "    </tr>\n",
       "    <tr>\n",
       "      <th>1827965</th>\n",
       "      <td>103.165474</td>\n",
       "      <td>2.514047</td>\n",
       "      <td>1.0</td>\n",
       "      <td>12.320300</td>\n",
       "      <td>9.160676</td>\n",
       "      <td>-79.667186</td>\n",
       "      <td>90.845177</td>\n",
       "      <td>POINT (-79.66719 9.16068)</td>\n",
       "    </tr>\n",
       "    <tr>\n",
       "      <th>1827966</th>\n",
       "      <td>50.091274</td>\n",
       "      <td>-2.230366</td>\n",
       "      <td>1.0</td>\n",
       "      <td>12.317310</td>\n",
       "      <td>9.160793</td>\n",
       "      <td>-79.667979</td>\n",
       "      <td>37.773964</td>\n",
       "      <td>POINT (-79.66798 9.16079)</td>\n",
       "    </tr>\n",
       "    <tr>\n",
       "      <th>1827967</th>\n",
       "      <td>50.749222</td>\n",
       "      <td>0.185611</td>\n",
       "      <td>1.0</td>\n",
       "      <td>12.316775</td>\n",
       "      <td>9.160814</td>\n",
       "      <td>-79.668121</td>\n",
       "      <td>38.432446</td>\n",
       "      <td>POINT (-79.66812 9.16081)</td>\n",
       "    </tr>\n",
       "    <tr>\n",
       "      <th>1827968</th>\n",
       "      <td>26.998960</td>\n",
       "      <td>-2.889698</td>\n",
       "      <td>1.0</td>\n",
       "      <td>12.325519</td>\n",
       "      <td>9.160471</td>\n",
       "      <td>-79.665802</td>\n",
       "      <td>14.673442</td>\n",
       "      <td>POINT (-79.66580 9.16047)</td>\n",
       "    </tr>\n",
       "    <tr>\n",
       "      <th>1827969</th>\n",
       "      <td>69.837334</td>\n",
       "      <td>-7.154676</td>\n",
       "      <td>1.0</td>\n",
       "      <td>12.308424</td>\n",
       "      <td>9.161142</td>\n",
       "      <td>-79.670342</td>\n",
       "      <td>57.528908</td>\n",
       "      <td>POINT (-79.67034 9.16114)</td>\n",
       "    </tr>\n",
       "  </tbody>\n",
       "</table>\n",
       "<p>1827970 rows × 8 columns</p>\n",
       "</div>"
      ],
      "text/plain": [
       "             height       sig0  classification      geoid  latitude  \\\n",
       "0         12.554601  40.937172             4.0  12.927674  8.901639   \n",
       "1         12.654260  31.059845             4.0  12.927361  8.901656   \n",
       "2         12.695892  16.790562             4.0  12.927069  8.901672   \n",
       "3         12.558355  13.450170             4.0  12.927868  8.901819   \n",
       "4         12.593613  36.509998             4.0  12.927578  8.901835   \n",
       "...             ...        ...             ...        ...       ...   \n",
       "1827965  103.165474   2.514047             1.0  12.320300  9.160676   \n",
       "1827966   50.091274  -2.230366             1.0  12.317310  9.160793   \n",
       "1827967   50.749222   0.185611             1.0  12.316775  9.160814   \n",
       "1827968   26.998960  -2.889698             1.0  12.325519  9.160471   \n",
       "1827969   69.837334  -7.154676             1.0  12.308424  9.161142   \n",
       "\n",
       "         longitude        wse                   geometry  \n",
       "0       -79.547015  -0.373074  POINT (-79.54701 8.90164)  \n",
       "1       -79.547131  -0.273101  POINT (-79.54713 8.90166)  \n",
       "2       -79.547239  -0.231176  POINT (-79.54724 8.90167)  \n",
       "3       -79.546884  -0.369513  POINT (-79.54688 8.90182)  \n",
       "4       -79.546991  -0.333965  POINT (-79.54699 8.90184)  \n",
       "...            ...        ...                        ...  \n",
       "1827965 -79.667186  90.845177  POINT (-79.66719 9.16068)  \n",
       "1827966 -79.667979  37.773964  POINT (-79.66798 9.16079)  \n",
       "1827967 -79.668121  38.432446  POINT (-79.66812 9.16081)  \n",
       "1827968 -79.665802  14.673442  POINT (-79.66580 9.16047)  \n",
       "1827969 -79.670342  57.528908  POINT (-79.67034 9.16114)  \n",
       "\n",
       "[1827970 rows x 8 columns]"
      ]
     },
     "execution_count": 17,
     "metadata": {},
     "output_type": "execute_result"
    }
   ],
   "source": [
    "from pixcdust.readers.gpkg import PixCGpkgReader\n",
    "\n",
    "# nb: you may specify \n",
    "pixc_read = PixCGpkgReader(\n",
    "    \"/tmp/my_awesome_pixc_gpkg.gpkg\"\n",
    ")\n",
    "pixc_read.read()\n",
    "pixc_read.data"
   ]
  },
  {
   "cell_type": "markdown",
   "metadata": {},
   "source": [
    "Enjoy!"
   ]
  },
  {
   "cell_type": "markdown",
   "metadata": {},
   "source": []
  }
 ],
 "metadata": {
  "kernelspec": {
   "display_name": ".venv",
   "language": "python",
   "name": "python3"
  },
  "language_info": {
   "codemirror_mode": {
    "name": "ipython",
    "version": 3
   },
   "file_extension": ".py",
   "mimetype": "text/x-python",
   "name": "python",
   "nbconvert_exporter": "python",
   "pygments_lexer": "ipython3",
   "version": "3.10.12"
  }
 },
 "nbformat": 4,
 "nbformat_minor": 2
}
