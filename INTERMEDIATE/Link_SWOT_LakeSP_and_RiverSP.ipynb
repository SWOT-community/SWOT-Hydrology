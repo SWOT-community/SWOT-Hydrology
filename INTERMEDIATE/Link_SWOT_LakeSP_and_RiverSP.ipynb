{
 "cells": [
  {
   "cell_type": "markdown",
   "metadata": {},
   "source": [
    "# Use the LakeSP Prior and the RiverSP Reach products together along a river\n",
    "not yet implemented, here for validation purposes"
   ]
  },
  {
   "cell_type": "markdown",
   "metadata": {},
   "source": []
  }
 ],
 "metadata": {
  "language_info": {
   "name": "python"
  }
 },
 "nbformat": 4,
 "nbformat_minor": 2
}
