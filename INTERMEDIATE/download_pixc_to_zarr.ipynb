{
 "cells": [
  {
   "cell_type": "markdown",
   "metadata": {},
   "source": [
    "# Download and convert to Zarr\n",
    "This downloads SWOT Pixel Cloud products from hydroweb.next (API-Key necessary) based on a region and a period of interest.\n",
    "Then is extracts information contained in the area of interest for your study, stores everything in a Zarr Database (based on the zcollection package) for future use.\n",
    "Zarr (and the way we partitionned data with zcollection) is very efficient for computation. However, it is not (yet) compatible with QGIS compared to Geopackage.\n"
   ]
  },
  {
   "cell_type": "markdown",
   "metadata": {},
   "source": [
    "## Setting the region and period of interest\n",
    "Using a geopackage layer, preliminary created with, e.g. QGIS, to limit data download and database"
   ]
  },
  {
   "cell_type": "code",
   "execution_count": 1,
   "metadata": {},
   "outputs": [
    {
     "name": "stderr",
     "output_type": "stream",
     "text": [
      "/home/hysope2/SRC/preprocess_swot_pixc/pixcdust/.venv/lib/python3.10/site-packages/tqdm/auto.py:21: TqdmWarning: IProgress not found. Please update jupyter and ipywidgets. See https://ipywidgets.readthedocs.io/en/stable/user_install.html\n",
      "  from .autonotebook import tqdm as notebook_tqdm\n"
     ]
    }
   ],
   "source": [
    "from pixcdust.downloaders.hydroweb_next import PixCDownloader\n",
    "import geopandas as gpd\n",
    "from datetime import datetime"
   ]
  },
  {
   "cell_type": "code",
   "execution_count": 2,
   "metadata": {},
   "outputs": [],
   "source": [
    "# reading the area of interest polygon (could have been set)\n",
    "gdf_geom = gpd.read_file('/home/hysope2/STUDIES/SWOT_Panama/DATA/aoi.gpkg')\n",
    "\n",
    "dates = (\n",
    "    datetime(2023,4,6),\n",
    "    datetime(2023,4,15),\n",
    ")\n",
    "\n"
   ]
  },
  {
   "cell_type": "markdown",
   "metadata": {},
   "source": [
    "## Download\n",
    "This will unfortunately lead to downloading many big files (that will be removed later). This is the only way right now, but the hydroweb.next team is working on improving that."
   ]
  },
  {
   "cell_type": "code",
   "execution_count": 3,
   "metadata": {},
   "outputs": [],
   "source": [
    "pixcdownloader = PixCDownloader(\n",
    "    gdf_geom,\n",
    "    dates,\n",
    "    verbose=0,\n",
    "    path_download='/tmp/pixc',\n",
    "    )\n",
    "pixcdownloader.search_download()"
   ]
  },
  {
   "cell_type": "markdown",
   "metadata": {},
   "source": [
    "## Extraction\n",
    "Now we have all necessary files, let us extract key variables within area of interest in a Zarr (zcollection) database.\n",
    "This Zarr partionned format is very efficient for time analysis, but is not currently accessible in GIS softwares such as QGIS\n",
    "We are using the same geodataframe to limit the data to the area of interest"
   ]
  },
  {
   "cell_type": "code",
   "execution_count": 4,
   "metadata": {},
   "outputs": [],
   "source": [
    "from pixcdust.converters.zarr import PixCNc2ZarrConverter\n",
    "from glob import glob"
   ]
  },
  {
   "cell_type": "code",
   "execution_count": 5,
   "metadata": {},
   "outputs": [
    {
     "name": "stderr",
     "output_type": "stream",
     "text": [
      "/home/hysope2/SRC/preprocess_swot_pixc/pixcdust/.venv/lib/python3.10/site-packages/distributed/client.py:3164: UserWarning: Sending large graph of size 611.84 MiB.\n",
      "This may cause some slowdown.\n",
      "Consider scattering data ahead of time and using futures.\n",
      "  warnings.warn(\n"
     ]
    }
   ],
   "source": [
    "pixc = PixCNc2ZarrConverter(\n",
    "            glob(pixcdownloader.path_download+'/*/*nc'),\n",
    "            \"/tmp/my_awesome_pixc_zarr\",\n",
    "            variables=['height', 'sig0', 'classification'],\n",
    "            area_of_interest=gdf_geom,\n",
    "            mode='o',\n",
    "        )\n",
    "pixc.database_from_nc()"
   ]
  },
  {
   "cell_type": "markdown",
   "metadata": {},
   "source": [
    "database has been succesfully created, we can remove the raw files"
   ]
  },
  {
   "cell_type": "code",
   "execution_count": 6,
   "metadata": {},
   "outputs": [],
   "source": [
    "# import shutil\n",
    "# shutil.rmtree('/tmp/pixc')"
   ]
  },
  {
   "cell_type": "markdown",
   "metadata": {},
   "source": [
    "# Read the database\n",
    "previous steps are not necessary\n",
    "\n",
    "Now we can open this database in a xarray, or dataframe, or GeoDataFrame"
   ]
  },
  {
   "cell_type": "code",
   "execution_count": 7,
   "metadata": {},
   "outputs": [
    {
     "data": {
      "text/plain": [
       "<zcollection.dataset.Dataset>\n",
       "  Dimensions: ('points: 18871671',)\n",
       "Data variables:\n",
       "    tile_number    (points)  uint16: dask.array<chunksize=(2097152,)>                                                   \n",
       "    classification (points)  float32: dask.array<chunksize=(2097152,)>                                                  \n",
       "    longitude      (points)  float32: dask.array<chunksize=(2097152,)>                                                  \n",
       "    geoid          (points)  float32: dask.array<chunksize=(2097152,)>                                                  \n",
       "    height         (points)  float32: dask.array<chunksize=(2097152,)>                                                  \n",
       "    sig0           (points)  float32: dask.array<chunksize=(2097152,)>                                                  \n",
       "    pass_number    (points)  uint16: dask.array<chunksize=(2097152,)>                                                   \n",
       "    time           (points)  datetime64[ns]: dask.array<chunksize=(2097152,)>                                           \n",
       "    cycle_number   (points)  uint16: dask.array<chunksize=(2097152,)>                                                   \n",
       "    latitude       (points)  float64: dask.array<chunksize=(2097152,)>                                                  \n",
       "  Attributes:\n",
       "    azimuth_offset            : 8                                                                                       \n",
       "    description               : 'cloud of geolocated interferogram pixels'                                              \n",
       "    interferogram_size_azimuth: 2190                                                                                    \n",
       "    interferogram_size_range  : 5075                                                                                    \n",
       "    looks_to_efflooks         : 1.5377120501155137                                                                      \n",
       "    num_azimuth_looks         : 7.0                                                                                     "
      ]
     },
     "execution_count": 7,
     "metadata": {},
     "output_type": "execute_result"
    }
   ],
   "source": [
    "from pixcdust.readers.zarr import PixCZarrReader\n",
    "import datetime\n",
    "\n",
    "pixc_read = PixCZarrReader(\n",
    "    \"/tmp/my_awesome_pixc_zarr\"\n",
    ")\n",
    "pixc_read.read((datetime.datetime(2023,4,10), datetime.datetime(2023,4,12)))\n",
    "pixc_read.data"
   ]
  },
  {
   "cell_type": "code",
   "execution_count": 8,
   "metadata": {},
   "outputs": [
    {
     "data": {
      "text/html": [
       "<div>\n",
       "<style scoped>\n",
       "    .dataframe tbody tr th:only-of-type {\n",
       "        vertical-align: middle;\n",
       "    }\n",
       "\n",
       "    .dataframe tbody tr th {\n",
       "        vertical-align: top;\n",
       "    }\n",
       "\n",
       "    .dataframe thead th {\n",
       "        text-align: right;\n",
       "    }\n",
       "</style>\n",
       "<table border=\"1\" class=\"dataframe\">\n",
       "  <thead>\n",
       "    <tr style=\"text-align: right;\">\n",
       "      <th></th>\n",
       "      <th>tile_number</th>\n",
       "      <th>classification</th>\n",
       "      <th>longitude</th>\n",
       "      <th>geoid</th>\n",
       "      <th>height</th>\n",
       "      <th>sig0</th>\n",
       "      <th>pass_number</th>\n",
       "      <th>time</th>\n",
       "      <th>cycle_number</th>\n",
       "      <th>latitude</th>\n",
       "      <th>geometry</th>\n",
       "    </tr>\n",
       "    <tr>\n",
       "      <th>points</th>\n",
       "      <th></th>\n",
       "      <th></th>\n",
       "      <th></th>\n",
       "      <th></th>\n",
       "      <th></th>\n",
       "      <th></th>\n",
       "      <th></th>\n",
       "      <th></th>\n",
       "      <th></th>\n",
       "      <th></th>\n",
       "      <th></th>\n",
       "    </tr>\n",
       "  </thead>\n",
       "  <tbody>\n",
       "    <tr>\n",
       "      <th>0</th>\n",
       "      <td>170</td>\n",
       "      <td>1.0</td>\n",
       "      <td>-79.104660</td>\n",
       "      <td>13.444022</td>\n",
       "      <td>20.446413</td>\n",
       "      <td>NaN</td>\n",
       "      <td>9</td>\n",
       "      <td>2023-04-10 03:26:32</td>\n",
       "      <td>486</td>\n",
       "      <td>8.762601</td>\n",
       "      <td>POINT (-79.10466 8.76260)</td>\n",
       "    </tr>\n",
       "    <tr>\n",
       "      <th>1</th>\n",
       "      <td>170</td>\n",
       "      <td>1.0</td>\n",
       "      <td>-79.107796</td>\n",
       "      <td>13.425582</td>\n",
       "      <td>19.637384</td>\n",
       "      <td>NaN</td>\n",
       "      <td>9</td>\n",
       "      <td>2023-04-10 03:26:32</td>\n",
       "      <td>486</td>\n",
       "      <td>8.763069</td>\n",
       "      <td>POINT (-79.10780 8.76307)</td>\n",
       "    </tr>\n",
       "    <tr>\n",
       "      <th>2</th>\n",
       "      <td>170</td>\n",
       "      <td>1.0</td>\n",
       "      <td>-79.102852</td>\n",
       "      <td>13.454618</td>\n",
       "      <td>19.055544</td>\n",
       "      <td>NaN</td>\n",
       "      <td>9</td>\n",
       "      <td>2023-04-10 03:26:32</td>\n",
       "      <td>486</td>\n",
       "      <td>8.762330</td>\n",
       "      <td>POINT (-79.10285 8.76233)</td>\n",
       "    </tr>\n",
       "    <tr>\n",
       "      <th>3</th>\n",
       "      <td>170</td>\n",
       "      <td>1.0</td>\n",
       "      <td>-79.108620</td>\n",
       "      <td>13.420682</td>\n",
       "      <td>18.149841</td>\n",
       "      <td>NaN</td>\n",
       "      <td>9</td>\n",
       "      <td>2023-04-10 03:26:32</td>\n",
       "      <td>486</td>\n",
       "      <td>8.763193</td>\n",
       "      <td>POINT (-79.10862 8.76319)</td>\n",
       "    </tr>\n",
       "    <tr>\n",
       "      <th>4</th>\n",
       "      <td>170</td>\n",
       "      <td>1.0</td>\n",
       "      <td>-79.108315</td>\n",
       "      <td>13.422508</td>\n",
       "      <td>17.395298</td>\n",
       "      <td>NaN</td>\n",
       "      <td>9</td>\n",
       "      <td>2023-04-10 03:26:32</td>\n",
       "      <td>486</td>\n",
       "      <td>8.763147</td>\n",
       "      <td>POINT (-79.10831 8.76315)</td>\n",
       "    </tr>\n",
       "    <tr>\n",
       "      <th>...</th>\n",
       "      <td>...</td>\n",
       "      <td>...</td>\n",
       "      <td>...</td>\n",
       "      <td>...</td>\n",
       "      <td>...</td>\n",
       "      <td>...</td>\n",
       "      <td>...</td>\n",
       "      <td>...</td>\n",
       "      <td>...</td>\n",
       "      <td>...</td>\n",
       "      <td>...</td>\n",
       "    </tr>\n",
       "    <tr>\n",
       "      <th>18871666</th>\n",
       "      <td>171</td>\n",
       "      <td>7.0</td>\n",
       "      <td>-79.561188</td>\n",
       "      <td>5.001038</td>\n",
       "      <td>2.826578</td>\n",
       "      <td>11.713768</td>\n",
       "      <td>9</td>\n",
       "      <td>2023-04-11 03:17:16</td>\n",
       "      <td>487</td>\n",
       "      <td>9.760922</td>\n",
       "      <td>POINT (-79.56119 9.76092)</td>\n",
       "    </tr>\n",
       "    <tr>\n",
       "      <th>18871667</th>\n",
       "      <td>171</td>\n",
       "      <td>7.0</td>\n",
       "      <td>-79.561272</td>\n",
       "      <td>5.000404</td>\n",
       "      <td>2.826173</td>\n",
       "      <td>14.126613</td>\n",
       "      <td>9</td>\n",
       "      <td>2023-04-11 03:17:16</td>\n",
       "      <td>487</td>\n",
       "      <td>9.760934</td>\n",
       "      <td>POINT (-79.56127 9.76093)</td>\n",
       "    </tr>\n",
       "    <tr>\n",
       "      <th>18871668</th>\n",
       "      <td>171</td>\n",
       "      <td>4.0</td>\n",
       "      <td>-79.561638</td>\n",
       "      <td>4.997420</td>\n",
       "      <td>5.619805</td>\n",
       "      <td>19.553595</td>\n",
       "      <td>9</td>\n",
       "      <td>2023-04-11 03:17:16</td>\n",
       "      <td>487</td>\n",
       "      <td>9.760988</td>\n",
       "      <td>POINT (-79.56164 9.76099)</td>\n",
       "    </tr>\n",
       "    <tr>\n",
       "      <th>18871669</th>\n",
       "      <td>171</td>\n",
       "      <td>4.0</td>\n",
       "      <td>-79.561813</td>\n",
       "      <td>4.995993</td>\n",
       "      <td>6.564185</td>\n",
       "      <td>21.987041</td>\n",
       "      <td>9</td>\n",
       "      <td>2023-04-11 03:17:16</td>\n",
       "      <td>487</td>\n",
       "      <td>9.761015</td>\n",
       "      <td>POINT (-79.56181 9.76101)</td>\n",
       "    </tr>\n",
       "    <tr>\n",
       "      <th>18871670</th>\n",
       "      <td>171</td>\n",
       "      <td>7.0</td>\n",
       "      <td>-79.561882</td>\n",
       "      <td>4.995450</td>\n",
       "      <td>6.457133</td>\n",
       "      <td>18.216505</td>\n",
       "      <td>9</td>\n",
       "      <td>2023-04-11 03:17:16</td>\n",
       "      <td>487</td>\n",
       "      <td>9.761025</td>\n",
       "      <td>POINT (-79.56188 9.76102)</td>\n",
       "    </tr>\n",
       "  </tbody>\n",
       "</table>\n",
       "<p>18871671 rows × 11 columns</p>\n",
       "</div>"
      ],
      "text/plain": [
       "          tile_number  classification  longitude      geoid     height  \\\n",
       "points                                                                   \n",
       "0                 170             1.0 -79.104660  13.444022  20.446413   \n",
       "1                 170             1.0 -79.107796  13.425582  19.637384   \n",
       "2                 170             1.0 -79.102852  13.454618  19.055544   \n",
       "3                 170             1.0 -79.108620  13.420682  18.149841   \n",
       "4                 170             1.0 -79.108315  13.422508  17.395298   \n",
       "...               ...             ...        ...        ...        ...   \n",
       "18871666          171             7.0 -79.561188   5.001038   2.826578   \n",
       "18871667          171             7.0 -79.561272   5.000404   2.826173   \n",
       "18871668          171             4.0 -79.561638   4.997420   5.619805   \n",
       "18871669          171             4.0 -79.561813   4.995993   6.564185   \n",
       "18871670          171             7.0 -79.561882   4.995450   6.457133   \n",
       "\n",
       "               sig0  pass_number                time  cycle_number  latitude  \\\n",
       "points                                                                         \n",
       "0               NaN            9 2023-04-10 03:26:32           486  8.762601   \n",
       "1               NaN            9 2023-04-10 03:26:32           486  8.763069   \n",
       "2               NaN            9 2023-04-10 03:26:32           486  8.762330   \n",
       "3               NaN            9 2023-04-10 03:26:32           486  8.763193   \n",
       "4               NaN            9 2023-04-10 03:26:32           486  8.763147   \n",
       "...             ...          ...                 ...           ...       ...   \n",
       "18871666  11.713768            9 2023-04-11 03:17:16           487  9.760922   \n",
       "18871667  14.126613            9 2023-04-11 03:17:16           487  9.760934   \n",
       "18871668  19.553595            9 2023-04-11 03:17:16           487  9.760988   \n",
       "18871669  21.987041            9 2023-04-11 03:17:16           487  9.761015   \n",
       "18871670  18.216505            9 2023-04-11 03:17:16           487  9.761025   \n",
       "\n",
       "                           geometry  \n",
       "points                               \n",
       "0         POINT (-79.10466 8.76260)  \n",
       "1         POINT (-79.10780 8.76307)  \n",
       "2         POINT (-79.10285 8.76233)  \n",
       "3         POINT (-79.10862 8.76319)  \n",
       "4         POINT (-79.10831 8.76315)  \n",
       "...                             ...  \n",
       "18871666  POINT (-79.56119 9.76092)  \n",
       "18871667  POINT (-79.56127 9.76093)  \n",
       "18871668  POINT (-79.56164 9.76099)  \n",
       "18871669  POINT (-79.56181 9.76101)  \n",
       "18871670  POINT (-79.56188 9.76102)  \n",
       "\n",
       "[18871671 rows x 11 columns]"
      ]
     },
     "execution_count": 8,
     "metadata": {},
     "output_type": "execute_result"
    }
   ],
   "source": [
    "gdf_pixc = pixc_read.to_geodataframe()\n",
    "gdf_pixc"
   ]
  },
  {
   "cell_type": "markdown",
   "metadata": {},
   "source": [
    "Enjoy!"
   ]
  }
 ],
 "metadata": {
  "kernelspec": {
   "display_name": ".venv",
   "language": "python",
   "name": "python3"
  },
  "language_info": {
   "codemirror_mode": {
    "name": "ipython",
    "version": 3
   },
   "file_extension": ".py",
   "mimetype": "text/x-python",
   "name": "python",
   "nbconvert_exporter": "python",
   "pygments_lexer": "ipython3",
   "version": "3.10.12"
  }
 },
 "nbformat": 4,
 "nbformat_minor": 2
}
